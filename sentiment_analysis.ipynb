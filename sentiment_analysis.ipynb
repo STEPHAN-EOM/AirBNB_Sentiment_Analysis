{
  "nbformat": 4,
  "nbformat_minor": 0,
  "metadata": {
    "colab": {
      "provenance": []
    },
    "kernelspec": {
      "name": "python3",
      "display_name": "Python 3"
    },
    "language_info": {
      "name": "python"
    },
    "gpuClass": "standard",
    "accelerator": "GPU"
  },
  "cells": [
    {
      "cell_type": "code",
      "execution_count": null,
      "metadata": {
        "id": "i4NVoNv32T7g"
      },
      "outputs": [],
      "source": [
        "import numpy as np\n",
        "import pandas as pd\n",
        "import matplotlib.pyplot as plt\n",
        "import sklearn\n",
        "import seaborn as sns"
      ]
    },
    {
      "cell_type": "code",
      "source": [
        "from sklearn.linear_model import LogisticRegression\n",
        "from sklearn.linear_model import Ridge\n",
        "from sklearn.preprocessing import PolynomialFeatures\n",
        "\n",
        "from sklearn.model_selection import cross_val_score\n",
        "from sklearn.model_selection import train_test_split\n",
        "from sklearn.model_selection import KFold\n",
        "from sklearn.metrics import mean_squared_error\n",
        "from sklearn.metrics import classification_report\n",
        "\n",
        "from sklearn.model_selection import GridSearchCV\n",
        "from sklearn.pipeline import Pipeline\n",
        "from sklearn.pipeline import make_pipeline\n",
        "from sklearn import preprocessing\n",
        "from sklearn.preprocessing import StandardScaler\n",
        "from sklearn.linear_model import LogisticRegression\n",
        "from sklearn.svm import SVC\n",
        "\n",
        "from sklearn import metrics\n",
        "from sklearn.metrics import accuracy_score\n",
        "from sklearn.metrics import classification_report\n",
        "\n",
        "\n",
        "from sklearn.dummy import DummyRegressor\n",
        "from sklearn.dummy import DummyClassifier"
      ],
      "metadata": {
        "id": "ES9qG-QuQ7sb"
      },
      "execution_count": null,
      "outputs": []
    },
    {
      "cell_type": "code",
      "source": [
        "import nltk\n",
        "nltk.download('punkt')\n",
        "nltk.download('stopwords')\n",
        "\n",
        "from sklearn.feature_extraction.text import CountVectorizer\n",
        "from sklearn.feature_extraction.text import TfidfVectorizer\n",
        "from nltk.sentiment.vader import SentimentIntensityAnalyzer\n",
        "from nltk.tokenize import WhitespaceTokenizer\n",
        "from nltk.tokenize import word_tokenize\n",
        "from nltk.stem import PorterStemmer\n",
        "from nltk.corpus import stopwords"
      ],
      "metadata": {
        "id": "RBD4ZjAKssPY"
      },
      "execution_count": null,
      "outputs": []
    },
    {
      "cell_type": "code",
      "source": [
        "import re"
      ],
      "metadata": {
        "id": "fzUE0LglH3v-"
      },
      "execution_count": null,
      "outputs": []
    },
    {
      "cell_type": "markdown",
      "source": [
        "Read listings.csv"
      ],
      "metadata": {
        "id": "W6WQhda3SDiC"
      }
    },
    {
      "cell_type": "code",
      "source": [
        "Data = pd.read_csv(\"/content/listings.csv\")"
      ],
      "metadata": {
        "id": "uRCYwAz47ayX"
      },
      "execution_count": null,
      "outputs": []
    },
    {
      "cell_type": "code",
      "source": [
        "Data.head()"
      ],
      "metadata": {
        "id": "fBaEBHvp7ppX"
      },
      "execution_count": null,
      "outputs": []
    },
    {
      "cell_type": "markdown",
      "source": [
        "Read review.csv files. Since the original file was too big to read, I split the file into 6 files"
      ],
      "metadata": {
        "id": "2FlwoFwgSGBY"
      }
    },
    {
      "cell_type": "code",
      "source": [
        "df = pd.read_csv(\"/content/review.csv\")\n",
        "reviews = pd.concat(df)\n",
        "reviews.head()"
      ],
      "metadata": {
        "id": "Ow_ra72eidhq"
      },
      "execution_count": null,
      "outputs": []
    },
    {
      "cell_type": "code",
      "source": [
        "Data.info()"
      ],
      "metadata": {
        "id": "xN347fxskGdO"
      },
      "execution_count": null,
      "outputs": []
    },
    {
      "cell_type": "code",
      "source": [
        "Data.columns"
      ],
      "metadata": {
        "id": "8NvhMlUH78Ik"
      },
      "execution_count": null,
      "outputs": []
    },
    {
      "cell_type": "code",
      "source": [
        "Data.drop(\"source\", axis = 1, inplace = True)\n",
        "Data.drop(\"name\", axis = 1, inplace = True)\n",
        "Data.drop(\"description\", axis = 1, inplace = True)\n",
        "Data.drop(\"neighborhood_overview\", axis = 1, inplace = True)\n",
        "Data.drop(\"host_id\", axis = 1, inplace = True)\n",
        "Data.drop(\"host_about\", axis = 1, inplace = True)\n",
        "Data.drop(\"host_name\", axis = 1, inplace = True)\n",
        "Data.drop(\"host_since\", axis = 1, inplace = True)\n",
        "Data.drop(\"host_location\", axis = 1, inplace = True)"
      ],
      "metadata": {
        "id": "aWzMZYWokGVk"
      },
      "execution_count": null,
      "outputs": []
    },
    {
      "cell_type": "code",
      "source": [
        "Data.drop(\"host_neighbourhood\", axis = 1, inplace = True)\n",
        "Data.drop(\"host_listings_count\", axis = 1, inplace = True)\n",
        "Data.drop(\"host_total_listings_count\", axis = 1, inplace = True)\n",
        "Data.drop(\"neighbourhood\", axis = 1, inplace = True)\n",
        "Data.drop(\"neighbourhood_cleansed\", axis = 1, inplace = True)\n",
        "Data.drop(\"property_type\", axis = 1, inplace = True)\n",
        "Data.drop(\"room_type\", axis = 1, inplace = True)\n",
        "Data.drop(\"bathrooms_text\", axis = 1, inplace = True)\n",
        "Data.drop(\"host_acceptance_rate\", axis = 1, inplace = True)\n",
        "Data.drop(\"instant_bookable\", axis = 1, inplace = True)\n",
        "Data.drop(\"host_verifications\", axis = 1, inplace = True)\n",
        "Data.drop(\"amenities\", axis = 1, inplace = True)"
      ],
      "metadata": {
        "id": "r58ORrPC6N05"
      },
      "execution_count": null,
      "outputs": []
    },
    {
      "cell_type": "code",
      "source": [
        "reviews.info()"
      ],
      "metadata": {
        "id": "xy8af-wH61Bk"
      },
      "execution_count": null,
      "outputs": []
    },
    {
      "cell_type": "code",
      "source": [
        "reviews.columns"
      ],
      "metadata": {
        "id": "BzGOavQ164HH"
      },
      "execution_count": null,
      "outputs": []
    },
    {
      "cell_type": "code",
      "source": [
        "reviews.drop(\"id\", axis = 1, inplace = True)\n",
        "reviews.drop(\"date\", axis = 1, inplace = True)\n",
        "reviews.drop(\"reviewer_id\", axis = 1, inplace = True)\n",
        "reviews.drop(\"reviewer_name\", axis = 1, inplace = True)"
      ],
      "metadata": {
        "id": "21c2M-tD6zr-"
      },
      "execution_count": null,
      "outputs": []
    },
    {
      "cell_type": "code",
      "source": [
        "reviews.info()"
      ],
      "metadata": {
        "id": "Xd67MPbNlsZ1"
      },
      "execution_count": null,
      "outputs": []
    },
    {
      "cell_type": "code",
      "source": [
        "reviews['listing_id'] = reviews.listing_id.astype('int')"
      ],
      "metadata": {
        "id": "myf8XNfy7T2T"
      },
      "execution_count": null,
      "outputs": []
    },
    {
      "cell_type": "code",
      "source": [
        "reviews.info()"
      ],
      "metadata": {
        "id": "B0Hr8vtIcorN"
      },
      "execution_count": null,
      "outputs": []
    },
    {
      "cell_type": "markdown",
      "source": [
        "Remove nan"
      ],
      "metadata": {
        "id": "DV9bLG-yU0eV"
      }
    },
    {
      "cell_type": "code",
      "source": [
        "reviews = reviews[reviews['comments'].notna]"
      ],
      "metadata": {
        "id": "X0NgKwE49eew"
      },
      "execution_count": null,
      "outputs": []
    },
    {
      "cell_type": "code",
      "source": [],
      "metadata": {
        "id": "JUAJyheEAD2H"
      },
      "execution_count": null,
      "outputs": []
    },
    {
      "cell_type": "code",
      "source": [],
      "metadata": {
        "id": "7bVryk0lADrc"
      },
      "execution_count": null,
      "outputs": []
    },
    {
      "cell_type": "markdown",
      "source": [
        "Sentiment Analysis"
      ],
      "metadata": {
        "id": "AIQikA94Vvsw"
      }
    },
    {
      "cell_type": "code",
      "source": [
        "!pip install langdetect"
      ],
      "metadata": {
        "id": "E8yxRsIWTS6b"
      },
      "execution_count": null,
      "outputs": []
    },
    {
      "cell_type": "code",
      "source": [
        "def sentiment_analysis(data, x, new_column):\n",
        "    data[new_column] = 0\n",
        "    sentiment = SentimentIntensityAnalyzer()\n",
        "\n",
        "    for i in range(len(data)):\n",
        "        s = str(data.iloc[i, data.columns.get_loc(x)])\n",
        "\n",
        "        sentiment_value = sentiment.polarity_scores(s)\n",
        "        data.iloc[i, data.columns.get_loc(new_column)] = sentiment_value[\"compound\"]"
      ],
      "metadata": {
        "id": "BQz-zXv4-dNd"
      },
      "execution_count": null,
      "outputs": []
    },
    {
      "cell_type": "code",
      "source": [
        "sentiment_analysis(reviews, 'comments', 'sentiment_score')"
      ],
      "metadata": {
        "id": "Vl3NT6s4HfaS"
      },
      "execution_count": null,
      "outputs": []
    },
    {
      "cell_type": "code",
      "source": [
        "reviews.head(100)"
      ],
      "metadata": {
        "id": "m7OAh3l7G_qY"
      },
      "execution_count": null,
      "outputs": []
    },
    {
      "cell_type": "code",
      "source": [
        "reviews.drop(\"comments\", axis = 1, inplace = True)"
      ],
      "metadata": {
        "id": "2V5WaDKTex5N"
      },
      "execution_count": null,
      "outputs": []
    },
    {
      "cell_type": "code",
      "source": [
        "new_reviews = reviews"
      ],
      "metadata": {
        "id": "TQ1fT7vAk9C5"
      },
      "execution_count": null,
      "outputs": []
    },
    {
      "cell_type": "code",
      "source": [
        "new_reviews = new_reviews.set_index('listing_id')"
      ],
      "metadata": {
        "id": "WYhljPnTf2aV"
      },
      "execution_count": null,
      "outputs": []
    },
    {
      "cell_type": "code",
      "source": [
        "new_reviews"
      ],
      "metadata": {
        "id": "BC3pa4wdhljJ"
      },
      "execution_count": null,
      "outputs": []
    },
    {
      "cell_type": "code",
      "source": [
        "new_reviews = new_reviews.groupby(level = 'listing_id').mean()\n",
        "new_reviews"
      ],
      "metadata": {
        "id": "gRSiHpDghLxH"
      },
      "execution_count": null,
      "outputs": []
    },
    {
      "cell_type": "code",
      "source": [
        "new_Data = Data.set_index('id')\n",
        "new_Data"
      ],
      "metadata": {
        "id": "d8DS-1NhoGFt"
      },
      "execution_count": null,
      "outputs": []
    },
    {
      "cell_type": "code",
      "source": [
        "Total = pd.merge(new_Data, new_reviews, left_index = True, right_index = True)"
      ],
      "metadata": {
        "id": "vV86LS3HoTk1"
      },
      "execution_count": null,
      "outputs": []
    },
    {
      "cell_type": "code",
      "source": [],
      "metadata": {
        "id": "brqnl59q7E5l"
      },
      "execution_count": null,
      "outputs": []
    },
    {
      "cell_type": "code",
      "source": [
        "Total"
      ],
      "metadata": {
        "id": "h3gFlHg1ogto"
      },
      "execution_count": null,
      "outputs": []
    },
    {
      "cell_type": "code",
      "source": [
        "new_reviews.drop('comments', axis = 1, inplace = True)"
      ],
      "metadata": {
        "id": "yDlZEd5MlsJD"
      },
      "execution_count": null,
      "outputs": []
    },
    {
      "cell_type": "code",
      "source": [
        "Total.to_csv(\"total.csv\")"
      ],
      "metadata": {
        "id": "yUSfKVWylyQb"
      },
      "execution_count": null,
      "outputs": []
    },
    {
      "cell_type": "code",
      "source": [
        "Total.columns"
      ],
      "metadata": {
        "id": "RoDXLHAbLWa5"
      },
      "execution_count": null,
      "outputs": []
    },
    {
      "cell_type": "code",
      "source": [
        "Total = pd.read_csv('total.csv')"
      ],
      "metadata": {
        "id": "rdyXk-Hi7K9c"
      },
      "execution_count": null,
      "outputs": []
    },
    {
      "cell_type": "code",
      "source": [
        "Total.head()"
      ],
      "metadata": {
        "id": "yjfTNbbt7XHe"
      },
      "execution_count": null,
      "outputs": []
    },
    {
      "cell_type": "markdown",
      "source": [
        "Remove the comments written by non-english"
      ],
      "metadata": {
        "id": "qf68cyitWx6K"
      }
    },
    {
      "cell_type": "code",
      "source": [
        "from langdetect import detect"
      ],
      "metadata": {
        "id": "j1XM9462TPIT"
      },
      "execution_count": null,
      "outputs": []
    },
    {
      "cell_type": "code",
      "source": [
        "def remove_non_english(data, x):\n",
        "    wrong_index = []\n",
        "    for i in range(len(data)):\n",
        "      try:\n",
        "        if detect(data.iloc[i, data.columns.get_loc(x)]) != 'en':\n",
        "            wrong_index.append(i)\n",
        "      except:\n",
        "        wrong_index.append(i)\n",
        "\n",
        "    data_drop = data.drop(wrong_index)\n",
        "    data_drop = data_drop.reset_index(drop = True)\n",
        "    return data_drop"
      ],
      "metadata": {
        "id": "ubditAk0SToI"
      },
      "execution_count": null,
      "outputs": []
    },
    {
      "cell_type": "code",
      "source": [
        "new_reviews = reviews"
      ],
      "metadata": {
        "id": "Ta4vrIdUnRc-"
      },
      "execution_count": null,
      "outputs": []
    },
    {
      "cell_type": "code",
      "source": [
        "new_reviews.info()"
      ],
      "metadata": {
        "id": "X2bcNbK6VUB6"
      },
      "execution_count": null,
      "outputs": []
    },
    {
      "cell_type": "code",
      "source": [
        "en_reviews = remove_non_english(new_reviews, 'comments')"
      ],
      "metadata": {
        "id": "L2bQoUN9KWjk"
      },
      "execution_count": null,
      "outputs": []
    },
    {
      "cell_type": "code",
      "source": [
        "en_reviews.to_csv('en_reviews.csv')"
      ],
      "metadata": {
        "id": "T85UtaP4nR-d"
      },
      "execution_count": null,
      "outputs": []
    },
    {
      "cell_type": "code",
      "source": [],
      "metadata": {
        "id": "ynEzripzSD1u"
      },
      "execution_count": null,
      "outputs": []
    },
    {
      "cell_type": "markdown",
      "source": [
        "Define the function to convert non-numeric data into numeric data"
      ],
      "metadata": {
        "id": "DoatTMN5YEeG"
      }
    },
    {
      "cell_type": "code",
      "source": [
        "def boolean(x):\n",
        "  if x == 'f':\n",
        "    return -1\n",
        "  return 1\n",
        "\n",
        "def host_response(x):\n",
        "  if x == 'within an hour':\n",
        "    return 10\n",
        "  elif x == 'within a few hours':\n",
        "    return 8\n",
        "  elif x == 'within a day':\n",
        "    return 6\n",
        "  else:\n",
        "    return 4\n",
        "\n",
        "def fillnamode(x):\n",
        "  Total.loc[:, x] = Total.loc[:, x].fillna(Total.loc[:, x].value_counts().index[0])\n",
        "  return\n",
        "\n",
        "def fillnamean(x):\n",
        "  Total.loc[:, x] = Total.loc[:, x].fillna(Total.loc[:, x].mean())\n",
        "  return"
      ],
      "metadata": {
        "id": "XRWNYvrTXw_b"
      },
      "execution_count": null,
      "outputs": []
    },
    {
      "cell_type": "code",
      "source": [
        "for i in range(len(Total)):\n",
        "    Total.iloc[i, Total.columns.get_loc('price')] = float(str(Total.iloc[i, Total.columns.get_loc('price')]).replace(\"$\", \"\").replace(\",\", \"\"))\n",
        "for i in range(len(Total)):\n",
        "    Total.iloc[i, Total.columns.get_loc('host_response_rate')] = float(str(Total.iloc[i, Total.columns.get_loc('host_response_rate')]).strip(\"%\"))/100"
      ],
      "metadata": {
        "id": "x8b-xuQRZ6C-"
      },
      "execution_count": null,
      "outputs": []
    },
    {
      "cell_type": "code",
      "source": [],
      "metadata": {
        "id": "bt9PUDBTZZhW"
      },
      "execution_count": null,
      "outputs": []
    },
    {
      "cell_type": "code",
      "source": [
        "fillnamean('review_scores_accuracy')\n",
        "fillnamean('review_scores_cleanliness')\n",
        "fillnamean('review_scores_checkin')\n",
        "fillnamean('review_scores_communication')\n",
        "fillnamean('review_scores_location')\n",
        "fillnamean('review_scores_value')\n",
        "fillnamean('bedrooms')\n",
        "fillnamean('beds')\n",
        "\n",
        "fillnamode('host_response_time')"
      ],
      "metadata": {
        "id": "LGQkBs_JXw8s"
      },
      "execution_count": null,
      "outputs": []
    },
    {
      "cell_type": "code",
      "source": [
        "Total[\"host_is_superhost\"] = Total['host_is_superhost'].map(boolean)\n",
        "Total['host_has_profile_pic'] = Total['host_has_profile_pic'].map(boolean)\n",
        "Total['host_identity_verified'] = Total['host_identity_verified'].map(boolean)\n",
        "Total['host_response_time'] = Total['host_response_time'].map(host_response)"
      ],
      "metadata": {
        "id": "MHqtn8vCXw5j"
      },
      "execution_count": null,
      "outputs": []
    },
    {
      "cell_type": "code",
      "source": [],
      "metadata": {
        "id": "Y1K_xQ2bXw2j"
      },
      "execution_count": null,
      "outputs": []
    },
    {
      "cell_type": "code",
      "source": [
        "super = Total['host_is_superhost']\n",
        "profile = Total['host_has_profile_pic']\n",
        "identity = Total['host_identity_verified']\n",
        "rating = Total['review_scores_value']\n",
        "response = Total['host_response_time']\n",
        "amenity = Total['n_amenities']\n",
        "num_review = Total['number_of_reviews']\n",
        "sentiment = Total['sentiment_score']\n",
        "price = Total['price']"
      ],
      "metadata": {
        "id": "wFQruhkHX_SD"
      },
      "execution_count": null,
      "outputs": []
    },
    {
      "cell_type": "code",
      "source": [
        "mean_price = price.mean()\n",
        "std_price = price.std()\n",
        "normal_price = (price - mean_price)/std_price\n",
        "Total['price'] = (Total['price'] - mean_price)/std_price"
      ],
      "metadata": {
        "id": "xmtx9DiYt6ur"
      },
      "execution_count": null,
      "outputs": []
    },
    {
      "cell_type": "code",
      "source": [
        "print((profile < 0).sum())\n",
        "print((profile > 0).sum())\n",
        "print((identity < 0).sum())\n",
        "print((identity > 0).sum())"
      ],
      "metadata": {
        "id": "GW8rNYebX_Pi"
      },
      "execution_count": null,
      "outputs": []
    },
    {
      "cell_type": "code",
      "source": [
        "plt.scatter(identity, rating, marker = '+', s = 10, c = 'red')\n",
        "plt.xlabel(\"identity verification\")\n",
        "plt.ylabel(\"reveiw score value\")"
      ],
      "metadata": {
        "id": "H2swFs_zwlST"
      },
      "execution_count": null,
      "outputs": []
    },
    {
      "cell_type": "code",
      "source": [
        "plt.scatter(amenity, rating, marker = '+', s = 10, c = 'red')\n",
        "plt.xlabel(\"number of amenities\")\n",
        "plt.ylabel(\"reveiw score value\")"
      ],
      "metadata": {
        "id": "mFGM_LABX_NA"
      },
      "execution_count": null,
      "outputs": []
    },
    {
      "cell_type": "code",
      "source": [
        "plt.scatter(num_review, rating, marker = '+', s = 10 , c = 'red')\n",
        "plt.xlabel(\"number of reviews\")\n",
        "plt.ylabel(\"reveiw score value\")"
      ],
      "metadata": {
        "id": "1M8sS7XoX_Ev"
      },
      "execution_count": null,
      "outputs": []
    },
    {
      "cell_type": "code",
      "source": [
        "plt.scatter(sentiment, rating, marker = '+', s = 10, c = 'red')\n",
        "plt.xlabel(\"sentiment score\")\n",
        "plt.ylabel(\"reveiw score value\")"
      ],
      "metadata": {
        "id": "vOyOUywIrLGJ"
      },
      "execution_count": null,
      "outputs": []
    },
    {
      "cell_type": "code",
      "source": [
        "plt.scatter(normal_price, rating,  marker = '+', s = 10, c = 'red')\n",
        "plt.xlabel(\"normalised price\")\n",
        "plt.ylabel(\"reveiw score value\")"
      ],
      "metadata": {
        "id": "Zsb9dJzxYNit"
      },
      "execution_count": null,
      "outputs": []
    },
    {
      "cell_type": "code",
      "source": [
        "plt.scatter(response, rating, s = 10, c = 'red')\n",
        "plt.xlabel(\"Host reponse time\")\n",
        "plt.ylabel(\"reveiw score value\")"
      ],
      "metadata": {
        "id": "QVnvyX3zYNg4"
      },
      "execution_count": null,
      "outputs": []
    },
    {
      "cell_type": "code",
      "source": [
        "Total.info()"
      ],
      "metadata": {
        "id": "3BQUA-cGYNe1"
      },
      "execution_count": null,
      "outputs": []
    },
    {
      "cell_type": "code",
      "source": [
        "Total.drop('host_response_rate', axis = 1, inplace = True)"
      ],
      "metadata": {
        "id": "W5BwO0xS4CUJ"
      },
      "execution_count": null,
      "outputs": []
    },
    {
      "cell_type": "code",
      "source": [],
      "metadata": {
        "id": "_pkyHteI6JtN"
      },
      "execution_count": null,
      "outputs": []
    },
    {
      "cell_type": "code",
      "source": [
        "New = Total"
      ],
      "metadata": {
        "id": "T-s1HtWZ6EQ9"
      },
      "execution_count": null,
      "outputs": []
    },
    {
      "cell_type": "code",
      "source": [
        "pd.isnull(New).sum()"
      ],
      "metadata": {
        "id": "n8z0MvCh6CUK"
      },
      "execution_count": null,
      "outputs": []
    },
    {
      "cell_type": "code",
      "source": [
        "Total.columns"
      ],
      "metadata": {
        "id": "FK_rNUFJkbKf"
      },
      "execution_count": null,
      "outputs": []
    },
    {
      "cell_type": "code",
      "source": [],
      "metadata": {
        "id": "QaHEZi4Y9dg4"
      },
      "execution_count": null,
      "outputs": []
    },
    {
      "cell_type": "code",
      "source": [],
      "metadata": {
        "id": "sCPOV-539kan"
      },
      "execution_count": null,
      "outputs": []
    },
    {
      "cell_type": "code",
      "source": [],
      "metadata": {
        "id": "X0uPuNLjOlG0"
      },
      "execution_count": null,
      "outputs": []
    },
    {
      "cell_type": "code",
      "source": [
        "label1 = [1, 2, 3, 4, 5]\n",
        "label2 = [1, 2, 3, 4]\n",
        "label3 = [1, 2, 3, 4, 5, 6]"
      ],
      "metadata": {
        "id": "Azdu2gVRGLYU"
      },
      "execution_count": null,
      "outputs": []
    },
    {
      "cell_type": "code",
      "source": [
        "def bin_scores(data, bin, score, labels):\n",
        "    data[bin] = pd.qcut(data[score], q=6, duplicates='drop', labels = labels)"
      ],
      "metadata": {
        "id": "BubjE-gHDsen"
      },
      "execution_count": null,
      "outputs": []
    },
    {
      "cell_type": "code",
      "source": [
        "Total.columns"
      ],
      "metadata": {
        "id": "ts0TvGO1HU9m"
      },
      "execution_count": null,
      "outputs": []
    },
    {
      "cell_type": "code",
      "source": [
        "bin_scores(Total,'rating','review_scores_rating',label1)\n",
        "bin_scores(Total,'accuracy','review_scores_accuracy',label1)\n",
        "bin_scores(Total,'cleanliness','review_scores_cleanliness',label1)\n",
        "bin_scores(Total,'checkin','review_scores_checkin',label2)\n",
        "bin_scores(Total,'communication','review_scores_communication',label2)\n",
        "bin_scores(Total,'location','review_scores_location',label1)\n",
        "bin_scores(Total,'value','review_scores_value',label3)"
      ],
      "metadata": {
        "id": "PtbiKMJDDsU-"
      },
      "execution_count": null,
      "outputs": []
    },
    {
      "cell_type": "code",
      "source": [
        "target = ['review_scores_rating', 'review_scores_accuracy', 'review_scores_cleanliness', 'review_scores_checkin', 'review_scores_communication', 'review_scores_location', 'review_scores_value']\n",
        "new_target = ['rating', 'accuracy', 'cleanliness', 'checkin', 'communication', 'location', 'value']\n",
        "\n",
        "Total = Total.drop(columns = target)\n",
        "Total.head()"
      ],
      "metadata": {
        "id": "oTFiJ-pUDsSo"
      },
      "execution_count": null,
      "outputs": []
    },
    {
      "cell_type": "code",
      "source": [],
      "metadata": {
        "id": "KRF5SOGHSIEK"
      },
      "execution_count": null,
      "outputs": []
    },
    {
      "cell_type": "code",
      "source": [
        "correlation = Total.corr()"
      ],
      "metadata": {
        "id": "dZIklthlDsQD"
      },
      "execution_count": null,
      "outputs": []
    },
    {
      "cell_type": "code",
      "source": [
        "fig, ax = plt.subplots(figsize = (12, 10))\n",
        "sns.heatmap(correlation, square = True, annot = True, xticklabels = correlation.columns.values, yticklabels = correlation.columns.values)\n",
        "plt.xlabel('Name of features')\n",
        "plt.ylabel(\"Name of features\")"
      ],
      "metadata": {
        "id": "HFjIccTaDsLM"
      },
      "execution_count": null,
      "outputs": []
    },
    {
      "cell_type": "code",
      "source": [],
      "metadata": {
        "id": "WFSIxNGoDsFp"
      },
      "execution_count": null,
      "outputs": []
    },
    {
      "cell_type": "code",
      "source": [
        "X = Total.drop(columns = ['Unnamed: 0']).drop(columns = new_target)\n",
        "y = Total[new_target]\n",
        "\n",
        "X_train, X_test, y_train, y_test = train_test_split(X, y, test_size = 0.2, random_state = 1)"
      ],
      "metadata": {
        "id": "-FGMF9wqDsCz"
      },
      "execution_count": null,
      "outputs": []
    },
    {
      "cell_type": "code",
      "source": [
        "print(X_train.shape, y_train.shape, X_test.shape, y_test.shape)"
      ],
      "metadata": {
        "id": "4suiuQanTZcz"
      },
      "execution_count": null,
      "outputs": []
    },
    {
      "cell_type": "code",
      "source": [],
      "metadata": {
        "id": "KdQkcpPWTZaW"
      },
      "execution_count": null,
      "outputs": []
    },
    {
      "cell_type": "code",
      "source": [],
      "metadata": {
        "id": "z6dLdFXPV1Tu"
      },
      "execution_count": null,
      "outputs": []
    },
    {
      "cell_type": "code",
      "source": [
        "def main_model(model, Xtrain, ytrain):\n",
        "    y_pred = model.predict(Xtrain)\n",
        "    y_proba = model.predict_proba(Xtrain)\n",
        "\n",
        "    acc = metrics.accuracy_score(ytrain, y_pred)\n",
        "    pre = metrics.precision_score(ytrain, y_pred, average = 'macro', zero_division=0)\n",
        "    recall = metrics.recall_score(ytrain, y_pred, average = 'macro')\n",
        "    f1 = metrics.f1_score(ytrain, y_pred, average = 'macro')\n",
        "    roc_auc = metrics.roc_auc_score(ytrain, y_proba, average = 'macro', multi_class = 'ovr')\n",
        "\n",
        "    return acc, pre, recall, f1, roc_auc\n",
        "\n",
        "def model_result(name, model, Xtrain, ytrain, Xtest, ytest):\n",
        "    result = pd.DataFrame(columns = ('Model', 'dataset', 'Accuracy', 'Precision', 'Recall', 'F1 score', 'ROC_AUC'))\n",
        "\n",
        "    model.fit(Xtrain, ytrain)\n",
        "    acc, p, r, f1, roc_auc_train = main_model(model, Xtrain, ytrain)\n",
        "    result.loc[0] = [name, 'train', acc, p, r, f1, roc_auc_train]\n",
        "\n",
        "    acc, p, r, f1, roc_auc_test = main_model(model, Xtest, ytest)\n",
        "    result.loc[1] = [name, 'test', acc, p, r, f1, roc_auc_test]\n",
        "    return result"
      ],
      "metadata": {
        "id": "SX7PgAtDTZYA"
      },
      "execution_count": null,
      "outputs": []
    },
    {
      "cell_type": "code",
      "source": [
        "def dummy_model(model, Xtrain, ytrain):\n",
        "    y_pred = model.predict(Xtrain)\n",
        "\n",
        "    acc = metrics.accuracy_score(ytrain, y_pred)\n",
        "    pre = metrics.precision_score(ytrain, y_pred, average ='macro', zero_division=0)\n",
        "    recall = metrics.recall_score(ytrain, y_pred, average ='macro')\n",
        "    f1 = metrics.f1_score(ytrain, y_pred, average='macro')\n",
        "\n",
        "    return acc, pre, recall, f1"
      ],
      "metadata": {
        "id": "ZY1nkDmwTZVh"
      },
      "execution_count": null,
      "outputs": []
    },
    {
      "cell_type": "code",
      "source": [
        "def dummy_result(name, model, Xtrain, ytrain, Xtest, ytest):\n",
        "    result = pd.DataFrame(columns =('Model', 'dataset', 'Accuracy', 'Precision', 'Recall', 'F1 score'))\n",
        "\n",
        "    model.fit(Xtrain, ytrain)\n",
        "    acc, p, r, f1 = dummy_model(model, Xtrain, ytrain)\n",
        "    result.loc[0] = [name, 'train', acc, p, r, f1]\n",
        "\n",
        "    acc, p, r, f1 = dummy_model(model, Xtest, ytest)\n",
        "    result.loc[1] = [name, 'test', acc, p, r, f1]\n",
        "    return result"
      ],
      "metadata": {
        "id": "U24lx51TWUOd"
      },
      "execution_count": null,
      "outputs": []
    },
    {
      "cell_type": "code",
      "source": [],
      "metadata": {
        "id": "coXumk3B30K6"
      },
      "execution_count": null,
      "outputs": []
    },
    {
      "cell_type": "code",
      "source": [],
      "metadata": {
        "id": "S0pGMs4D30Hg"
      },
      "execution_count": null,
      "outputs": []
    },
    {
      "cell_type": "markdown",
      "source": [
        "Logistic Regression"
      ],
      "metadata": {
        "id": "cIg93jkESL-l"
      }
    },
    {
      "cell_type": "code",
      "source": [
        "model1 = LogisticRegression()\n",
        "param_grid1 = {'C':[0.001, 0.01, 0.1, 1, 10], 'max_iter':[1000], 'solver':['saga']}"
      ],
      "metadata": {
        "id": "QL0HSesgYOyG"
      },
      "execution_count": null,
      "outputs": []
    },
    {
      "cell_type": "code",
      "source": [
        "Ci = []\n",
        "\n",
        "for i in range(7):\n",
        "  target = new_target[i]\n",
        "\n",
        "  gs = GridSearchCV(LogisticRegression(), param_grid = param_grid1, scoring = 'accuracy', n_jobs = -1)\n",
        "  gs = gs.fit(X_train, y_train[target])\n",
        "  param = gs.best_params_\n",
        "  Ci.append(param)"
      ],
      "metadata": {
        "id": "3Pz5_irUYWdE"
      },
      "execution_count": null,
      "outputs": []
    },
    {
      "cell_type": "code",
      "source": [
        "Ci"
      ],
      "metadata": {
        "id": "Y1jH3yY2aKdQ"
      },
      "execution_count": null,
      "outputs": []
    },
    {
      "cell_type": "code",
      "source": [
        "for i in range(7):\n",
        "  target = new_target[i]\n",
        "  parameter = Ci[i]\n",
        "  model = LogisticRegression(**parameter)\n",
        "\n",
        "  result = model_result('Logistic', model, X_train, y_train[target], X_test, y_test[target])\n",
        "  print(result)"
      ],
      "metadata": {
        "id": "a1TQW4-NYtvE"
      },
      "execution_count": null,
      "outputs": []
    },
    {
      "cell_type": "code",
      "source": [],
      "metadata": {
        "id": "vYSoudYBdN5o"
      },
      "execution_count": null,
      "outputs": []
    },
    {
      "cell_type": "markdown",
      "source": [
        "Decision Tree"
      ],
      "metadata": {
        "id": "C_pFoBELggX-"
      }
    },
    {
      "cell_type": "code",
      "source": [
        "from sklearn.tree import DecisionTreeClassifier"
      ],
      "metadata": {
        "id": "HKJRD5HvfCv-"
      },
      "execution_count": null,
      "outputs": []
    },
    {
      "cell_type": "code",
      "source": [
        "gs = GridSearchCV(estimator = DecisionTreeClassifier(random_state = 0),\n",
        "                  param_grid = [{'max_depth' : [1, 2, 3, 4, 5, 6, 7, None]}],\n",
        "                  scoring = 'accuracy', cv = 2)"
      ],
      "metadata": {
        "id": "8psW-fQIfl4P"
      },
      "execution_count": null,
      "outputs": []
    },
    {
      "cell_type": "code",
      "source": [
        "psvc = []\n",
        "\n",
        "for i in range(7):\n",
        "  target = new_target[i]\n",
        "\n",
        "  gs = gs.fit(X_train, y_train[target])\n",
        "  param = gs.best_params_\n",
        "  psvc.append(param)"
      ],
      "metadata": {
        "id": "BTMjGtj4b-MM"
      },
      "execution_count": null,
      "outputs": []
    },
    {
      "cell_type": "code",
      "source": [
        "psvc"
      ],
      "metadata": {
        "id": "cy9Z6yAvcgf6"
      },
      "execution_count": null,
      "outputs": []
    },
    {
      "cell_type": "code",
      "source": [
        "psvc1 = [{'kernel': 'linear', 'C': 1.0},\n",
        " {'kernel': 'linear', 'C': 1.0},\n",
        " {'kernel': 'linear', 'C': 10.0},\n",
        " {'kernel': 'linear', 'C': 0.001},\n",
        " {'kernel': 'linear', 'C': 0.001},\n",
        " {'kernel': 'linear', 'C': 1.0},\n",
        " {'kernel': 'linear', 'C': 10.0}]"
      ],
      "metadata": {
        "id": "rUHAiHYYc5xp"
      },
      "execution_count": null,
      "outputs": []
    },
    {
      "cell_type": "code",
      "source": [
        "for i in range(7):\n",
        "  target = new_target[i]\n",
        "  parameter = psvc[i]\n",
        "  model = DecisionTreeClassifier(**parameter)\n",
        "\n",
        "  result = model_result('Decision Three', model, X_train, y_train[target], X_test, y_test[target])\n",
        "  print(result)"
      ],
      "metadata": {
        "id": "OMRiW7LgcWc1"
      },
      "execution_count": null,
      "outputs": []
    },
    {
      "cell_type": "code",
      "source": [],
      "metadata": {
        "id": "L_aRBkVQzj3x"
      },
      "execution_count": null,
      "outputs": []
    },
    {
      "cell_type": "markdown",
      "source": [
        "Baseline model(= Dummy classfier)"
      ],
      "metadata": {
        "id": "G7udlB1CSPbI"
      }
    },
    {
      "cell_type": "code",
      "source": [
        "dummy = DummyClassifier(strategy = 'most_frequent')"
      ],
      "metadata": {
        "id": "isHCj9_sTZSp"
      },
      "execution_count": null,
      "outputs": []
    },
    {
      "cell_type": "code",
      "source": [
        "for target in new_target:\n",
        "\n",
        "  result = dummy_result('Dummy', dummy, X_train, y_train[target], X_test, y_test[target])\n",
        "  print(result)"
      ],
      "metadata": {
        "id": "qFGpMCJc3P1L"
      },
      "execution_count": null,
      "outputs": []
    },
    {
      "cell_type": "code",
      "source": [],
      "metadata": {
        "id": "f7f9fzksZU_v"
      },
      "execution_count": null,
      "outputs": []
    }
  ]
}