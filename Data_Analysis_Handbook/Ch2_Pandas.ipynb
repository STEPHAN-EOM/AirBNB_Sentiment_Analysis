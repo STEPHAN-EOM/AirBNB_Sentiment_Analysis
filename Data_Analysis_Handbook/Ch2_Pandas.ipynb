{
  "nbformat": 4,
  "nbformat_minor": 0,
  "metadata": {
    "colab": {
      "provenance": [],
      "authorship_tag": "ABX9TyOaJZg7jYBTvxY+xviU6Myy"
    },
    "kernelspec": {
      "name": "python3",
      "display_name": "Python 3"
    },
    "language_info": {
      "name": "python"
    }
  },
  "cells": [
    {
      "cell_type": "markdown",
      "source": [
        "Data_Analysis_Handbook"
      ],
      "metadata": {
        "id": "LEvqt30mt8lg"
      }
    },
    {
      "cell_type": "code",
      "execution_count": 1,
      "metadata": {
        "id": "13IjRBRWtxET"
      },
      "outputs": [],
      "source": [
        "import numpy as np\n",
        "import pandas as pd"
      ]
    },
    {
      "cell_type": "code",
      "source": [],
      "metadata": {
        "id": "3YKg_t8zuATp"
      },
      "execution_count": null,
      "outputs": []
    }
  ]
}